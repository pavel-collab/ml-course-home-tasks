{
 "cells": [
  {
   "cell_type": "markdown",
   "metadata": {},
   "source": [
    "## Lab 2"
   ]
  },
  {
   "cell_type": "markdown",
   "metadata": {},
   "source": [
    "### Part 3. Poetry generation\n",
    "\n",
    "Let's try to generate some poetry using RNNs. \n",
    "\n",
    "You have several choices here: \n",
    "\n",
    "* The Shakespeare sonnets, file `sonnets.txt` available in the notebook directory.\n",
    "\n",
    "* Роман в стихах \"Евгений Онегин\" Александра Сергеевича Пушкина. В предобработанном виде доступен по [ссылке](https://github.com/attatrol/data_sources/blob/master/onegin.txt).\n",
    "\n",
    "* Some other text source, if it will be approved by the course staff.\n",
    "\n",
    "Text generation can be designed in several steps:\n",
    "    \n",
    "1. Data loading.\n",
    "2. Dictionary generation.\n",
    "3. Data preprocessing.\n",
    "4. Model (neural network) training.\n",
    "5. Text generation (model evaluation).\n"
   ]
  },
  {
   "cell_type": "code",
   "execution_count": 1,
   "metadata": {},
   "outputs": [],
   "source": [
    "import string\n",
    "import os"
   ]
  },
  {
   "cell_type": "markdown",
   "metadata": {},
   "source": [
    "### Data loading: Shakespeare"
   ]
  },
  {
   "cell_type": "markdown",
   "metadata": {},
   "source": [
    "Shakespeare sonnets are awailable at this [link](http://www.gutenberg.org/ebooks/1041?msg=welcome_stranger). In addition, they are stored in the same directory as this notebook (`sonnetes.txt`). Simple preprocessing is already done for you in the next cell: all technical info is dropped."
   ]
  },
  {
   "cell_type": "code",
   "execution_count": null,
   "metadata": {
    "collapsed": true
   },
   "outputs": [],
   "source": [
    "# if not os.path.exists('sonnets.txt'):\n",
    "#     !wget https://raw.githubusercontent.com/girafe-ai/ml-course/22f_basic/homeworks_basic/lab02_deep_learning/sonnets.txt\n",
    "\n",
    "# with open('sonnets.txt', 'r') as iofile:\n",
    "#     text = iofile.readlines()\n",
    "    \n",
    "# TEXT_START = 45\n",
    "# TEXT_END = -368\n",
    "# text = text[TEXT_START : TEXT_END]\n",
    "# assert len(text) == 2616"
   ]
  },
  {
   "cell_type": "markdown",
   "metadata": {},
   "source": [
    "In opposite to the in-class practice, this time we want to predict complex text. Let's reduce the complexity of the task and lowercase all the symbols.\n",
    "\n",
    "Now variable `text` is a list of strings. Join all the strings into one and lowercase it."
   ]
  },
  {
   "cell_type": "code",
   "execution_count": null,
   "metadata": {},
   "outputs": [],
   "source": [
    "# # Join all the strings into one and lowercase it\n",
    "# # Put result into variable text.\n",
    "\n",
    "# # Your great code here\n",
    "# text = ''.join(text).lower()\n",
    "\n",
    "# assert len(text) == 100225, 'Are you sure you have concatenated all the strings?'\n",
    "# assert not any([x in set(text) for x in string.ascii_uppercase]), 'Uppercase letters are present'\n",
    "# print('OK!')"
   ]
  },
  {
   "cell_type": "markdown",
   "metadata": {},
   "source": [
    "### Data loading: \"Евгений Онегин\"\n"
   ]
  },
  {
   "cell_type": "markdown",
   "metadata": {},
   "source": [
    "В данной работе я решил использовать текст поэмы \"Евгений Онегин\""
   ]
  },
  {
   "cell_type": "code",
   "execution_count": 2,
   "metadata": {},
   "outputs": [
    {
     "name": "stdout",
     "output_type": "stream",
     "text": [
      "--2023-12-13 13:11:32--  https://raw.githubusercontent.com/attatrol/data_sources/master/onegin.txt\n",
      "Resolving raw.githubusercontent.com (raw.githubusercontent.com)... 185.199.109.133, 185.199.110.133, 185.199.111.133, ...\n",
      "Connecting to raw.githubusercontent.com (raw.githubusercontent.com)|185.199.109.133|:443... connected.\n",
      "HTTP request sent, awaiting response... 200 OK\n",
      "Length: 262521 (256K) [text/plain]\n",
      "Saving to: ‘onegin.txt’\n",
      "\n",
      "onegin.txt          100%[===================>] 256,37K  --.-KB/s    in 0,07s   \n",
      "\n",
      "2023-12-13 13:11:33 (3,76 MB/s) - ‘onegin.txt’ saved [262521/262521]\n",
      "\n"
     ]
    }
   ],
   "source": [
    "!wget https://raw.githubusercontent.com/attatrol/data_sources/master/onegin.txt\n",
    "    \n",
    "with open('onegin.txt', 'r') as iofile:\n",
    "    text = iofile.readlines()\n",
    "    \n",
    "text = [x.replace('\\t\\t', '') for x in text]"
   ]
  },
  {
   "cell_type": "markdown",
   "metadata": {},
   "source": [
    "In opposite to the in-class practice, this time we want to predict complex text. Let's reduce the complexity of the task and lowercase all the symbols.\n",
    "\n",
    "Now variable `text` is a list of strings. Join all the strings into one and lowercase it."
   ]
  },
  {
   "cell_type": "code",
   "execution_count": 3,
   "metadata": {},
   "outputs": [],
   "source": [
    "# Join all the strings into one and lowercase it\n",
    "# Put result into variable text.\n",
    "\n",
    "# Your great code here\n",
    "text = ''.join(text).lower()"
   ]
  },
  {
   "cell_type": "code",
   "execution_count": 4,
   "metadata": {},
   "outputs": [
    {
     "data": {
      "text/plain": [
       "'\\n«мой дядя самых честных правил,\\nкогда не в шутку занемог,\\nон уважать себя заставил\\nи лучше выдумать не мог.\\nего пример другим наука;\\nно, боже мой, какая скука\\nс больным сидеть и день и ночь,\\nне отходя ни шагу прочь!\\nкакое низкое коварство\\nполуживого забавлять,\\nему подушки поправлять,\\nпечально подносить лекарство,\\nвздыхать и думать про себя:\\nкогда же черт возьмет тебя!»\\nтак думал молодой повеса,\\nлетя в пыли на почтовых,\\nвсевышней волею зевеса\\nнаследник всех своих родных. —\\nдрузья людмилы и русла'"
      ]
     },
     "execution_count": 4,
     "metadata": {},
     "output_type": "execute_result"
    }
   ],
   "source": [
    "'''\n",
    "Кроме того, можно убрать из текста латинские буквы, \n",
    "которыми обозначаются номера частей и лишние знаки переноса на новую строку\n",
    "'''\n",
    "\n",
    "import re\n",
    "text = re.sub(\"[i|v|x|c|]\", '', text)\n",
    "text = re.sub(\"\\n+\", '\\n', text)\n",
    "text[:500]"
   ]
  },
  {
   "cell_type": "markdown",
   "metadata": {},
   "source": [
    "Put all the characters, that you've seen in the text, into variable `tokens`."
   ]
  },
  {
   "cell_type": "code",
   "execution_count": 5,
   "metadata": {},
   "outputs": [],
   "source": [
    "'''\n",
    "Создадим множество всевозможных символов, которые встречаются в тексте.\n",
    "Таким образом, в этом контейнере мы получим только уникальные символы.\n",
    "'''\n",
    "tokens = sorted(set(text))"
   ]
  },
  {
   "cell_type": "markdown",
   "metadata": {},
   "source": [
    "Create dictionary `token_to_idx = {<char>: <index>}` and dictionary `idx_to_token = {<index>: <char>}`"
   ]
  },
  {
   "cell_type": "code",
   "execution_count": 7,
   "metadata": {
    "collapsed": true
   },
   "outputs": [],
   "source": [
    "import numpy as np\n",
    "'''\n",
    "Занумеруем встречающиеся символы и создадим 2 слваря взаимно-обратного отображения.\n",
    "Определенному символу соответствует определенное число,\n",
    "Определенному числу соответствует определенный символ.\n",
    "'''\n",
    "\n",
    "# dict <index>:<char>\n",
    "# Your great code here\n",
    "tokens_list = list(tokens)\n",
    "token_to_idx = {c:i for i, c in enumerate(tokens_list)}\n",
    "\n",
    "# dict <char>:<index>\n",
    "# Your great code here\n",
    "idx_to_token = {i:c for i, c in enumerate(tokens_list)}\n",
    "\n",
    "num_of_tokens = len(tokens_list)\n",
    "\n",
    "# с помощью отображения закодируем текст поэмы и представим его в виде массива чисел, \n",
    "# в этом представлении с ним уже может работать компуктер\n",
    "#! этот массив был нужен, когда использовалась кастомная функция генерации батчей\n",
    "encoded = np.array([token_to_idx[c] for c in text], dtype=np.int32)"
   ]
  },
  {
   "cell_type": "code",
   "execution_count": 8,
   "metadata": {},
   "outputs": [],
   "source": [
    "'''\n",
    "Напишем функцию, которая выбирает батчи последовательностей из текста.\n",
    "\n",
    "Here I tried to implement my own batch generation function. It worksm but worse\n",
    "than DataLoader from torch. Actually, I'm still not good in it.\n",
    "'''\n",
    "def get_batches(arr, n_seqs, n_steps):\n",
    "    '''Создаем генератор, который возвращает пакеты размером\n",
    "       n_seqs x n_steps из массива arr.\n",
    "       \n",
    "       Аргументы\n",
    "       ---------\n",
    "       arr: Массив, из которого получаем пакеты\n",
    "       n_seqs: Batch size, количество последовательностей в пакете\n",
    "       n_steps: Sequence length, сколько \"шагов\" делаем в пакете\n",
    "    '''\n",
    "    # Считаем количество символов на пакет и количество пакетов, которое можем сформировать\n",
    "    characters_per_batch = n_seqs * n_steps\n",
    "    n_batches = len(arr)//characters_per_batch\n",
    "    \n",
    "    # Сохраняем в массиве только символы, которые позволяют сформировать целое число пакетов\n",
    "    arr = arr[:n_batches * characters_per_batch]\n",
    "    \n",
    "    # Делаем reshape 1D -> 2D, используя n_seqs как число строк, как на картинке\n",
    "    arr = arr.reshape((n_seqs, -1))\n",
    "    \n",
    "    for n in range(0, arr.shape[1], n_steps):\n",
    "        # пакет данных, который будет подаваться на вход сети\n",
    "        x = arr[:, n:n+n_steps]\n",
    "        # целевой пакет, с которым будем сравнивать предсказание, получаем сдвиганием \"x\" на один символ вперед\n",
    "        y = np.zeros_like(x)\n",
    "        y[:, :-1], y[:, -1] = x[:, 1:], x[:, 0]\n",
    "        yield x, y"
   ]
  },
  {
   "cell_type": "code",
   "execution_count": 9,
   "metadata": {},
   "outputs": [],
   "source": [
    "from torch.utils.data import DataLoader\n",
    "import torch\n",
    "\n",
    "'''\n",
    "Вместо кастомной функции генерации батчей воспользуемся готовым функционалом DataLoader\n",
    "'''\n",
    "class Dataset(torch.utils.data.Dataset):\n",
    "    def __init__(self, sequence_length=10):\n",
    "        self.sequence_length = sequence_length\n",
    "        self.text = [token_to_idx[c] for c in text]\n",
    "    def __len__(self):\n",
    "        return len(self.text) - self.sequence_length\n",
    "    def __getitem__(self, index):\n",
    "        return (\n",
    "            torch.tensor(self.text[index:index+self.sequence_length]),\n",
    "            torch.tensor(self.text[index+1:index+self.sequence_length+1]),\n",
    "        )"
   ]
  },
  {
   "cell_type": "markdown",
   "metadata": {},
   "source": [
    "### Building the model"
   ]
  },
  {
   "cell_type": "markdown",
   "metadata": {},
   "source": [
    "Now we want to build and train recurrent neural net which would be able to something similar to Shakespeare's poetry.\n",
    "\n",
    "Let's use vanilla RNN, similar to the one created during the lesson."
   ]
  },
  {
   "cell_type": "code",
   "execution_count": 10,
   "metadata": {
    "collapsed": true
   },
   "outputs": [],
   "source": [
    "import torch\n",
    "from torch import nn\n",
    "from torch import optim\n",
    "from torch.nn import functional as F\n",
    "'''\n",
    "Напишем класс сверточной нейронной сети.\n",
    "Используем класс обычной рекурентной нейронной сети.\n",
    "'''\n",
    "\n",
    "# Your code here\n",
    "class CharRNNCell(nn.Module):\n",
    "    '''\n",
    "    В конструктор передаем мощность алфавита (количество токенов),\n",
    "    размер вектора, который будет представлять наш контекст -- embedding_size,\n",
    "    длинну последовательности букв, которая будет обрабатываться на каждом этапе рекурсии (по умолчанию -- последовательность из 10 букв)\n",
    "    '''\n",
    "    def __init__(self, num_tokens=num_of_tokens, embedding_size=70, sequence_length=10):\n",
    "        super(self.__class__,self).__init__()\n",
    "        self.sequence_length = sequence_length\n",
    "        \n",
    "        self.embedding = nn.Embedding(num_tokens, embedding_size) # преобразование, которое переводит слово в вектор контекста\n",
    "        self.rnn_update = nn.Linear(embedding_size + sequence_length, sequence_length) # линейное преобразование, которое применяется к конкатенации новго слова и прошлого контекста\n",
    "        self.rnn_to_logits = nn.Linear(sequence_length, num_tokens) # трансляция полученного вектора в вектор логитов\n",
    "        \n",
    "    def forward(self, x, h_prev):\n",
    "        '''\n",
    "        Напишем функцию прямой прогонки\n",
    "        '''\n",
    "        x_emb = self.embedding(x) # на вход рекурентного блока мы получаем новое слово x и предыдущий вектор контекста; новое слово мы должны превратить в вектор\n",
    "        x_and_h = torch.cat([x_emb, h_prev], dim=1) # конкотенируем полученный вектор и вектор контекста\n",
    "        h_next = self.rnn_update(x_and_h) # применяем линейное преобразование\n",
    "        h_next = torch.tanh(h_next) # применяем нелинейное преобразование\n",
    "        logits = self.rnn_to_logits(h_next) # перегоняем вектор контекста в вектор логитов\n",
    "        return F.log_softmax(logits, -1), h_next # возвращаем \"вероятности\" логитов и новый вектр контекста\n",
    "    \n",
    "    def initial_state(self, batch_size):\n",
    "        return torch.zeros(batch_size, self.sequence_length, requires_grad=True)"
   ]
  },
  {
   "cell_type": "code",
   "execution_count": 11,
   "metadata": {},
   "outputs": [],
   "source": [
    "'''\n",
    "Раньше батч представлял собой набор векторов и, таким образом, получалась матрица чисел.\n",
    "Сейчас батч -- есть набор последовательностей, причем обучение на одной последовательности состоит в том,\n",
    "что для очередной буквы в последовательности мы пытаемся предсказать следующую.\n",
    "Таким оборазом, каждую последовательность в батче необходимо обрабатывать отдельно.\n",
    "\n",
    "Напишем функцию для обучения на одном батче\n",
    "'''\n",
    "def rnn_loop(rnn_model, batch):\n",
    "    batch_size, max_length = np.shape(batch)\n",
    "\n",
    "    # инициализируем начальное состояние\n",
    "    hid_state = rnn_model.initial_state(batch_size)\n",
    "    logprobs = []\n",
    "\n",
    "    for x_t in batch.T:\n",
    "        logp_next, hid_state = rnn_model(torch.tensor(x_t), torch.tensor(hid_state))\n",
    "        logprobs.append(logp_next)\n",
    "        \n",
    "    return torch.stack(logprobs, dim=1)"
   ]
  },
  {
   "cell_type": "markdown",
   "metadata": {},
   "source": [
    "Plot the loss function (axis X: number of epochs, axis Y: loss function)."
   ]
  },
  {
   "cell_type": "code",
   "execution_count": 12,
   "metadata": {},
   "outputs": [],
   "source": [
    "# обучим модель\n",
    "rnn = CharRNNCell()\n",
    "optimizer = optim.Adam(rnn.parameters(), lr=0.001)\n",
    "criterion = nn.NLLLoss()\n",
    "\n",
    "n_epoch = 20\n",
    "sequence_length = 15\n",
    "batch_size = 128\n",
    "history = []\n",
    "\n",
    "dataset = Dataset(sequence_length=sequence_length)\n",
    "dataloader = DataLoader(dataset, batch_size=batch_size)"
   ]
  },
  {
   "cell_type": "code",
   "execution_count": 13,
   "metadata": {
    "collapsed": true
   },
   "outputs": [
    {
     "name": "stderr",
     "output_type": "stream",
     "text": [
      "/tmp/ipykernel_3509724/1607109532.py:17: UserWarning: To copy construct from a tensor, it is recommended to use sourceTensor.clone().detach() or sourceTensor.clone().detach().requires_grad_(True), rather than torch.tensor(sourceTensor).\n",
      "  logp_next, hid_state = rnn_model(torch.tensor(x_t), torch.tensor(hid_state))\n"
     ]
    }
   ],
   "source": [
    "# Your plot code here\n",
    "rnn.train()\n",
    "for epoch in range(n_epoch):\n",
    "    h = rnn.initial_state(sequence_length)\n",
    "    #! Previous it used a custom batch generator, but now we use DataLoader\n",
    "    # for batch_obj, batch_labels in get_batches(encoded, batch_size, sequence_length):\n",
    "    for batch_obj, batch_labels in dataloader:\n",
    "        # обучаемся на батче\n",
    "        predictions_logp = rnn_loop(rnn, batch_obj)\n",
    "        actual_next_tokens = torch.LongTensor(batch_labels)\n",
    "        # сравниваем предсказанные символы с метками обучения\n",
    "        loss = criterion(\n",
    "          predictions_logp.contiguous().view(-1, len(tokens)),\n",
    "          actual_next_tokens.contiguous().view(-1)\n",
    "        )\n",
    "        \n",
    "        optimizer.zero_grad()\n",
    "        loss.backward()\n",
    "        optimizer.step()\n",
    "    history.append(loss.item())"
   ]
  },
  {
   "cell_type": "code",
   "execution_count": 14,
   "metadata": {},
   "outputs": [
    {
     "data": {
      "text/plain": [
       "Text(0, 0.5, 'Loss value')"
      ]
     },
     "execution_count": 14,
     "metadata": {},
     "output_type": "execute_result"
    },
    {
     "data": {
      "image/png": "[encoded data removed]",
      "text/plain": [
       "<Figure size 640x480 with 1 Axes>"
      ]
     },
     "metadata": {},
     "output_type": "display_data"
    }
   ],
   "source": [
    "import matplotlib.pyplot as plt\n",
    "plt.plot(history)\n",
    "plt.xlabel('Number of epochs')\n",
    "plt.ylabel('Loss value')"
   ]
  },
  {
   "cell_type": "code",
   "execution_count": 15,
   "metadata": {},
   "outputs": [],
   "source": [
    "def generate_sample(char_rnn, seed_phrase='мой дядя', max_length=100, temperature=1.0):\n",
    "    '''\n",
    "    ### Disclaimer: this is an example function for text generation.\n",
    "    ### You can either adapt it in your code or create your own function\n",
    "    \n",
    "    The function generates text given a phrase of length at least SEQ_LENGTH.\n",
    "    :param seed_phrase: prefix characters. The RNN is asked to continue the phrase\n",
    "    :param max_length: maximum output length, including seed_phrase\n",
    "    :param temperature: coefficient for sampling.  higher temperature produces more chaotic outputs, \n",
    "        smaller temperature converges to the single most likely output.\n",
    "        \n",
    "    Be careful with the model output. This model waits logits (not probabilities/log-probabilities)\n",
    "    of the next symbol.\n",
    "    '''\n",
    "    \n",
    "    x_sequence = [token_to_idx[token] for token in seed_phrase]\n",
    "    x_sequence = torch.tensor([x_sequence], dtype=torch.int64)\n",
    "    hid_state = char_rnn.initial_state(batch_size=1)\n",
    "    \n",
    "    #feed the seed phrase, if any\n",
    "    for i in range(len(seed_phrase) - 1):\n",
    "        # print(x_sequence[:, -1].shape, hid_state.shape)\n",
    "        out, hid_state = char_rnn(x_sequence[:, i], hid_state)\n",
    "    \n",
    "    #start generating\n",
    "    for _ in range(max_length - len(seed_phrase)):\n",
    "        # print(x_sequence.shape, x_sequence, hid_state.shape)\n",
    "        out, hid_state = char_rnn(x_sequence[:, -1], hid_state)\n",
    "        # Be really careful here with the model output\n",
    "        p_next = F.softmax(out / temperature, dim=-1).data.numpy()[0]\n",
    "        \n",
    "        # sample next token and push it back into x_sequence\n",
    "        # print(p_next.shape, len(tokens))\n",
    "        next_ix = np.random.choice(len(tokens), p=p_next)\n",
    "        next_ix = torch.tensor([[next_ix]], dtype=torch.int64)\n",
    "        # print(x_sequence.shape, next_ix.shape)\n",
    "        x_sequence = torch.cat([x_sequence, next_ix], dim=1)\n",
    " \n",
    "    return ''.join([tokens[ix] for ix in x_sequence.data.numpy()[0]])"
   ]
  },
  {
   "cell_type": "code",
   "execution_count": 16,
   "metadata": {},
   "outputs": [
    {
     "name": "stdout",
     "output_type": "stream",
     "text": [
      "так думалде нае пошит вно ей тачю оноща до ужетой кный, быт нвлостноют!»\n",
      "чем свет жею,\n",
      "тус-те,\n",
      "вся т\n"
     ]
    }
   ],
   "source": [
    "# An example of generated text.\n",
    "print(generate_sample(rnn, seed_phrase='так думал'))"
   ]
  },
  {
   "cell_type": "markdown",
   "metadata": {},
   "source": [
    "### More poetic model\n",
    "\n",
    "Let's use LSTM instead of vanilla RNN and compare the results."
   ]
  },
  {
   "cell_type": "markdown",
   "metadata": {},
   "source": [
    "Plot the loss function of the number of epochs. Does the final loss become better?"
   ]
  },
  {
   "cell_type": "code",
   "execution_count": 17,
   "metadata": {
    "collapsed": true
   },
   "outputs": [],
   "source": [
    "# Your beautiful code here\n",
    "class LSTM(nn.Module):\n",
    "    def __init__(self, num_of_tokens=num_of_tokens, embedding_size=128, num_layers=1):\n",
    "        super(self.__class__, self).__init__()\n",
    "        self.embedding_size = embedding_size\n",
    "        self.num_layers = num_layers\n",
    "        self.embedding = nn.Embedding(num_of_tokens, self.embedding_size)\n",
    "        self.lstm = nn.LSTM(\n",
    "            input_size=self.embedding_size,\n",
    "            hidden_size=self.embedding_size,\n",
    "            num_layers=self.num_layers # number of recurent layers (by default 1; it need to build deep recurent networks)\n",
    "        )\n",
    "        self.rnn_to_logit = nn.Linear(self.embedding_size, num_of_tokens)\n",
    "\n",
    "    def forward(self, x, h_prev):\n",
    "        x_emb = self.embedding(x)\n",
    "        output, h_next = self.lstm(x_emb, h_prev)\n",
    "        logits = self.rnn_to_logit(output)\n",
    "        return logits, h_next\n",
    "    \n",
    "    def initial_state(self, sequence_length):\n",
    "        return (torch.zeros(self.num_layers, sequence_length, self.embedding_size),\n",
    "                torch.zeros(self.num_layers, sequence_length, self.embedding_size))"
   ]
  },
  {
   "cell_type": "code",
   "execution_count": 18,
   "metadata": {},
   "outputs": [],
   "source": [
    "model = LSTM()\n",
    "optimizer = optim.Adam(model.parameters(), lr=0.001)\n",
    "criterion = nn.CrossEntropyLoss()\n",
    "\n",
    "history = []\n",
    "\n",
    "dataset = Dataset(sequence_length=sequence_length)\n",
    "dataloader = DataLoader(dataset, batch_size=batch_size)"
   ]
  },
  {
   "cell_type": "code",
   "execution_count": 19,
   "metadata": {},
   "outputs": [],
   "source": [
    "model.train()\n",
    "for epoch in range(n_epoch):\n",
    "    (h, c) = model.initial_state(sequence_length)\n",
    "    #! Previous it used a custom batch generator, but now we use DataLoader\n",
    "    # for batch_obj, batch_labels in get_batches(encoded, batch_size, sequence_length):\n",
    "    for batch_obj, batch_labels in dataloader:\n",
    "        optimizer.zero_grad()\n",
    "        y_pred, (h, c) = model(torch.LongTensor(batch_obj), (h, c))\n",
    "        loss = criterion(y_pred.transpose(1, 2), torch.LongTensor(batch_labels))\n",
    "        h.detach_()\n",
    "        c.detach_()\n",
    "        loss.backward()\n",
    "        optimizer.step()\n",
    "    history.append(loss.item())"
   ]
  },
  {
   "cell_type": "code",
   "execution_count": 20,
   "metadata": {},
   "outputs": [
    {
     "data": {
      "text/plain": [
       "Text(0, 0.5, 'Loss value')"
      ]
     },
     "execution_count": 20,
     "metadata": {},
     "output_type": "execute_result"
    },
    {
     "data": {
      "image/png": "[encoded data removed]",
      "text/plain": [
       "<Figure size 640x480 with 1 Axes>"
      ]
     },
     "metadata": {},
     "output_type": "display_data"
    }
   ],
   "source": [
    "plt.plot(history)\n",
    "plt.xlabel('Number of epochs')\n",
    "plt.ylabel('Loss value')"
   ]
  },
  {
   "cell_type": "code",
   "execution_count": 21,
   "metadata": {},
   "outputs": [],
   "source": [
    "def generate_sample(model, seed_phrase=' ', max_length=100, temperature=0.2):\n",
    "    model.eval()\n",
    "    h, c = model.initial_state(len(seed_phrase))\n",
    "    for i in range(0, max_length):\n",
    "        x = torch.tensor([[token_to_idx[c] for c in seed_phrase[i:]]])\n",
    "        y_pred, (h, c) = model(x, (h, c))\n",
    "        last_char_logits = y_pred[0][-1]\n",
    "        p = torch.nn.functional.softmax(last_char_logits / temperature, dim=0).detach().numpy()\n",
    "        char_index = np.random.choice(len(last_char_logits), p=p)\n",
    "        seed_phrase = seed_phrase + idx_to_token[char_index]\n",
    "    return seed_phrase"
   ]
  },
  {
   "cell_type": "markdown",
   "metadata": {},
   "source": [
    "Generate text using the trained net with different `temperature` parameter: `[0.1, 0.2, 0.5, 1.0, 2.0]`.\n",
    "\n",
    "Evaluate the results visually, try to interpret them."
   ]
  },
  {
   "cell_type": "code",
   "execution_count": 22,
   "metadata": {
    "collapsed": true
   },
   "outputs": [
    {
     "name": "stdout",
     "output_type": "stream",
     "text": [
      "text generation with temperature T = 0.1\n",
      "мой дядя!\n",
      "к мой должны привычный страсти,\n",
      "и в старый ваш привычный странный,\n",
      "и в старик, так в сердце в старинный,\n",
      "и в сердце тани с ней не мог.\n",
      "l\n",
      "его был он молодой дале\n",
      "и в старом страсти с какой-то лет,\n",
      "и \n",
      "\n",
      "text generation with temperature T = 0.2\n",
      "мой дядя.\n",
      "быть может, я встречает с ней.\n",
      "l\n",
      "онегин в свете молодой,\n",
      "и в самим сердцем привычит и\n",
      "встречает с свой привычной света\n",
      "с корованный в света благода,\n",
      "как будто б не мог она мог\n",
      "она в сердце страстей \n",
      "\n",
      "text generation with temperature T = 0.5\n",
      "мой дядя!» – – «окомного\n",
      "с корость и страсти странной средь.\n",
      "l\n",
      "так ты же страстей на мой вас\n",
      "в вышели с корозной днен,\n",
      "и в самир, так в темных строгий\n",
      "пред ней ни мог он моей поднять\n",
      "и просто с вами страшный \n",
      "\n",
      "text generation with temperature T = 1.0\n",
      "мой дядяm. – «        -тоб прина.\n",
      "и, между лист, одною такы\n",
      "иль явал очаровный взможе,\n",
      "так я я русский дили томтань…\n",
      "вот ша ток, было жар бустях,\n",
      "всеган влешибу света постей\n",
      "прибед находят в деси: мой!»… a€д,\n",
      "\n",
      "text generation with temperature T = 2.0\n",
      "мой дядя?,.\n",
      "хомp к ерись? зрей, улынах,\n",
      "(икийзем… яши,, хморамена\n",
      "почтрочик) ей, клуp. каг.) mo,\n",
      "уже: не– чемхлою, дуски стушит:\n",
      "а «уж, овидно! «не, шлыгас едум,\n",
      "ещем отщеют; эедетки…\n",
      "я знати луне!: uйn?onfш\n",
      "\n",
      "\n"
     ]
    }
   ],
   "source": [
    "# Text generation with different temperature values here\n",
    "temperatures = [0.1, 0.2, 0.5, 1.0, 2.0]\n",
    "for temp in temperatures:\n",
    "    print(f\"text generation with temperature T = {temp}\")\n",
    "    print(generate_sample(model, seed_phrase='мой дядя', temperature=temp, max_length=200))\n",
    "    print()"
   ]
  },
  {
   "cell_type": "markdown",
   "metadata": {},
   "source": [
    "### Вывод\n",
    "Как видно, по сравнению с обычным рекурентным блоком LSTM показывает лучшие результаты. Благодаря механизму \"долгосрочной памяти\" модель выдает по большей части последовательности настоящих осмысленных слов, а не просто наборы букв, которые похожи на слова. \n",
    "Можно пронаблюдать, как значение temperature влияет на разнообразие генерации. Из наблюдений можно сделать вывод, что лучше всего применять среднее значение температуры. При слишком низком значении генерации становятся топорными и мало изменяются от запусука к запуску. При слишком высокой температуре модель начинает выдавать какой-то совершенный хаос."
   ]
  },
  {
   "cell_type": "markdown",
   "metadata": {},
   "source": [
    "### Saving and loading models"
   ]
  },
  {
   "cell_type": "markdown",
   "metadata": {},
   "source": [
    "Save the model to the disk, then load it and generate text. Examples are available [here](https://pytorch.org/tutorials/beginner/saving_loading_models.html])."
   ]
  },
  {
   "cell_type": "code",
   "execution_count": 23,
   "metadata": {
    "collapsed": true
   },
   "outputs": [],
   "source": [
    "# Как можно сохранить обученную модель в файл\n",
    "#! Внимание, путь к папке сохранения захардкожен для моего компьютера\n",
    "path_to_save = '/home/pavel/workdir/remote_work/ml-course-home-tasks/homeworks/lab02_deep_learning'\n",
    "file_to_save = 'model'\n",
    "torch.save(model.state_dict(), path_to_save + '/' + file_to_save)"
   ]
  },
  {
   "cell_type": "code",
   "execution_count": 24,
   "metadata": {},
   "outputs": [
    {
     "name": "stdout",
     "output_type": "stream",
     "text": [
      "как рано мог уж он тревожить! – «как ты с том,\n",
      "в пред след, прошла всегда преданно,\n",
      "и встречает с светской полей\n",
      "и представить не долгою бурил,\n",
      "она в может я был он отворят,\n",
      "и в старины милый то влеке\n",
      "в то крестной я был давал п\n"
     ]
    }
   ],
   "source": [
    "copy_model = LSTM()\n",
    "copy_model.load_state_dict(torch.load(path_to_save + '/' + file_to_save))\n",
    "print(generate_sample(copy_model, temperature=0.5, seed_phrase='как рано мог уж он тревожить', max_length=200))"
   ]
  },
  {
   "cell_type": "markdown",
   "metadata": {},
   "source": [
    "### References\n",
    "1. <a href='http://karpathy.github.io/2015/05/21/rnn-effectiveness/'> Andrew Karpathy blog post about RNN. </a> \n",
    "There are several examples of genration: Shakespeare texts, Latex formulas, Linux Sourse Code and children names.\n",
    "2. <a href='https://github.com/karpathy/char-rnn'> Repo with char-rnn code </a>\n",
    "3. Cool repo with PyTorch examples: [link](https://github.com/spro/practical-pytorch`)"
   ]
  }
 ],
 "metadata": {
  "anaconda-cloud": {},
  "kernelspec": {
   "display_name": "Python 3",
   "language": "python",
   "name": "python3"
  },
  "language_info": {
   "codemirror_mode": {
    "name": "ipython",
    "version": 3
   },
   "file_extension": ".py",
   "mimetype": "text/x-python",
   "name": "python",
   "nbconvert_exporter": "python",
   "pygments_lexer": "ipython3",
   "version": "3.8.10"
  }
 },
 "nbformat": 4,
 "nbformat_minor": 2
}
