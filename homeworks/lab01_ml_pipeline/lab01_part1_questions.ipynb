{
 "cells": [
  {
   "cell_type": "markdown",
   "metadata": {},
   "source": [
    "*Credits: materials from this notebook belong to YSDA [Practical DL](https://github.com/yandexdataschool/Practical_DL) course. Special thanks for making them available online.*"
   ]
  },
  {
   "cell_type": "markdown",
   "metadata": {},
   "source": [
    "# Lab assignment №1, part 1\n",
    "\n",
    "This lab assignment consists of several parts. You are supposed to make some transformations, train some models, estimate the quality of the models and explain your results.\n",
    "\n",
    "Several comments:\n",
    "* Don't hesitate to ask questions, it's a good practice.\n",
    "* No private/public sharing, please. The copied assignments will be graded with 0 points.\n",
    "* Blocks of this lab will be graded separately."
   ]
  },
  {
   "cell_type": "markdown",
   "metadata": {},
   "source": [
    "## 1. Matrix differentiation"
   ]
  },
  {
   "cell_type": "markdown",
   "metadata": {},
   "source": [
    "Since it easy to google every task please please please try to undestand what's going on. The \"just answer\" thing will be not counted, make sure to present derivation of your solution. It is absolutely OK if you found an answer on web then just exercise in $\\LaTeX$ copying it into here."
   ]
  },
  {
   "cell_type": "markdown",
   "metadata": {},
   "source": [
    "Useful links: \n",
    "[1](http://www.machinelearning.ru/wiki/images/2/2a/Matrix-Gauss.pdf)\n",
    "[2](http://www.atmos.washington.edu/~dennis/MatrixCalculus.pdf)"
   ]
  },
  {
   "cell_type": "markdown",
   "metadata": {},
   "source": [
    "## ex. 1"
   ]
  },
  {
   "cell_type": "markdown",
   "metadata": {},
   "source": [
    "$$  \n",
    "y = x^Tx,  \\quad x \\in \\mathbb{R}^N \n",
    "$$"
   ]
  },
  {
   "cell_type": "markdown",
   "metadata": {},
   "source": [
    "It's easier to solve another case: \n",
    "\n",
    "$$\n",
    "y = x^T A x\n",
    "$$ \n",
    "\n",
    "Note, that y is a scalar and \n",
    "\n",
    "$$\n",
    "y = \\sum_{i = 0}^{N} \\sum_{j = 0}^{N} a_{ij} x_i x_j\n",
    "$$ \n",
    "\n",
    "Also, note that \n",
    "\n",
    "$$\n",
    "(\\frac{dy}{dx})_i = \\frac{d}{dx_i} \\sum_{i = 0}^{N} \\sum_{j = 0}^{N} a_{ij} x_i x_j\n",
    "$$ \n",
    "\n",
    "So, we have an answer \n",
    "\n",
    "$$\n",
    "\\frac{dy}{dx} = x^T (A + A^T)\n",
    "$$\n",
    "\n",
    "So, in our case $y = x^T x$, that means $A = I$ (where $I$ is eye matrix), so, the answer is \n",
    "\n",
    "$$\n",
    "\\frac{dy}{dx} = 2 x^T I\n",
    "$$ "
   ]
  },
  {
   "cell_type": "markdown",
   "metadata": {},
   "source": [
    "## ex. 2"
   ]
  },
  {
   "cell_type": "markdown",
   "metadata": {},
   "source": [
    "$$ y = tr(AB) \\quad A,B \\in \\mathbb{R}^{N \\times N} $$ "
   ]
  },
  {
   "cell_type": "markdown",
   "metadata": {},
   "source": [
    "Note, that $y$ is scalar and also \n",
    "\n",
    "$$\n",
    "y = \\sum_{i = 0}^{N} \\sum_{j = 0}^{N} a_{ij} b_{ji}\n",
    "$$\n",
    "\n",
    "When we take a defferenciation by matrix, we assume: \n",
    "\n",
    "$$\n",
    "(\\frac{dy}{dA})_{ij} = \\frac{dy}{da_{ij}}\n",
    "$$ \n",
    "\n",
    "So, we have an answer\n",
    "\n",
    "$$\n",
    "\\frac{dy}{dA} = B^T\n",
    "$$\n",
    "\n",
    "Let's check an example with matrix $2 \\times 2$\n",
    "\n",
    "$$\n",
    "A = \n",
    "\\begin{pmatrix}\n",
    "a_{11} ~ a_{12} \\\\\n",
    "a_{21} ~ a_{22} \\\\ \n",
    "\\end{pmatrix}\n",
    "\n",
    "~~~\n",
    "\n",
    "B = \n",
    "\\begin{pmatrix}\n",
    "b_{11} ~ b_{12} \\\\\n",
    "b_{21} ~ b_{22} \\\\ \n",
    "\\end{pmatrix}\n",
    "$$\n",
    "\n",
    "$$\n",
    "tr(AB) = (a_{11}b_{11} + a_{12}b_{21}) + (a_{21}b_{12} + a_{22}b_{22})\n",
    "$$\n",
    "\n",
    "$$\n",
    "\\frac{dy}{dA} = \n",
    "\\begin{pmatrix}\n",
    "\\frac{tr(AB)}{a_{11}} ~ \\frac{tr(AB)}{a_{12}} \\\\\n",
    "\\frac{tr(AB)}{a_{21}} ~ \\frac{tr(AB)}{a_{22}} \\\\\n",
    "\\end{pmatrix}\n",
    "$$\n",
    "\n",
    "$$\n",
    "(\\frac{dy}{dA})_{ij} = b_{ji}\n",
    "$$"
   ]
  },
  {
   "cell_type": "markdown",
   "metadata": {},
   "source": [
    "## ex. 3"
   ]
  },
  {
   "cell_type": "markdown",
   "metadata": {},
   "source": [
    "$$  \n",
    "y = x^TAc , \\quad A\\in \\mathbb{R}^{N \\times N}, x\\in \\mathbb{R}^{N}, c\\in \\mathbb{R}^{N} \n",
    "$$"
   ]
  },
  {
   "cell_type": "markdown",
   "metadata": {},
   "source": [
    "Solution one. Firstly we can use equation\n",
    "\n",
    "$$\n",
    "\\frac{d(x^T a)}{dx} = a\n",
    "$$\n",
    "\n",
    "Than in our case:\n",
    "\n",
    "$$\n",
    "\\frac{dy}{dx} = AC\n",
    "$$\n",
    "\n",
    "Solution two. \n",
    "\n",
    "$$\n",
    "y = \\sum_{i = 0}^{N} \\sum_{j = 0}^{N} a_{ij} x_i c_j\n",
    "$$ \n",
    "\n",
    "so we have \n",
    "\n",
    "$$\n",
    "\\frac{dy}{dx_k} = \\sum_{i = 0}^{N} a_{kj} c_j\n",
    "$$\n",
    "\n",
    "$$\n",
    "\\frac{dy}{dx} = AC\n",
    "$$\n"
   ]
  },
  {
   "cell_type": "markdown",
   "metadata": {},
   "source": [
    "As we have noted \n",
    "\n",
    "$$\n",
    "y = \\sum_{i = 0}^{N} \\sum_{j = 0}^{N} a_{ij} x_j c_i\n",
    "$$ \n",
    "\n",
    "With differentiate by matrix $A$, we've got\n",
    "\n",
    "$$\n",
    "\\frac{dy}{da_{ij}} = x_j c_i\n",
    "$$\n",
    "\n",
    "$$\n",
    "\\frac{dy}{dA} = c x^T\n",
    "$$\n",
    "\n",
    "The answer will be a matrix! Lets check an example with matrix $2 \\times 2$.\n",
    "\n",
    "$$\n",
    "y = \n",
    "\\begin{pmatrix}\n",
    "x_1 ~ x_2\n",
    "\\end{pmatrix}\n",
    "\n",
    "\\begin{pmatrix}\n",
    "a_{11} ~ a_{12} \\\\\n",
    "a_{21} ~ a_{22} \\\\\n",
    "\\end{pmatrix}\n",
    "\n",
    "\\begin{pmatrix}\n",
    "c_1 \\\\\n",
    "c_2 \\\\\n",
    "\\end{pmatrix}\n",
    "$$\n",
    "\n",
    "$$\n",
    "y = c_1(a_{11} x_1 + a_{21} x_2) + c_2(a_{12} x_1 + a_{22} x_2)\n",
    "$$\n",
    "\n",
    "$$\n",
    "\\frac{dy}{dA} = \n",
    "\\begin{pmatrix}\n",
    "c_1 x_1 ~ c_1 x_2 \\\\\n",
    "c_2 x_1 ~ c_2 x_2\n",
    "\\end{pmatrix}\n",
    "$$"
   ]
  },
  {
   "cell_type": "markdown",
   "metadata": {},
   "source": [
    "Hint for the latter (one of the ways): use *ex. 2* result and the fact \n",
    "$$\n",
    "tr(ABC) = tr (CAB)\n",
    "$$"
   ]
  },
  {
   "cell_type": "markdown",
   "metadata": {},
   "source": [
    "## ex. 4"
   ]
  },
  {
   "cell_type": "markdown",
   "metadata": {},
   "source": [
    "Classic matrix factorization example. Given matrix $X$ you need to find $A$, $S$ to approximate $X$. This can be done by simple gradient descent iteratively alternating $A$ and $S$ updates.\n",
    "$$\n",
    "J = || X - AS ||_F^2  , \\quad A\\in \\mathbb{R}^{N \\times R} , \\quad S\\in \\mathbb{R}^{R \\times M}\n",
    "$$\n",
    "$$\n",
    "\\frac{dJ}{dS} = ? \n",
    "$$\n",
    "\n",
    "You may use one of the following approaches:"
   ]
  },
  {
   "cell_type": "markdown",
   "metadata": {},
   "source": [
    "Using ex.2 and the fact:\n",
    "$$\n",
    "|| X ||_F^2 = tr(XX^T) \n",
    "$$ \n",
    "it is easy to derive gradients (you can find it in one of the refs). \n",
    "\n",
    "\\begin{gather*}\n",
    "z_{i}^j = (X-AS)_{i}^j = x_i^j-a_{ik}s^{kj} \\\\\n",
    "w_{i}^j = ((X-AS)^T)_{i}^j = x_j^i-a_{jk}s^{ki} \\\\\n",
    "J = tr(ZW) = tr(z_i^lw_l^j) = tr((x_{i}^l-a_{ik_1}s^{k_1l})(x^{j}_l-a^{jk_2}s_{k_2l})) = (x_{i}^l-a_{ik_1}s^{k_1l})(x^{i}_l-a^{ik_2}s_{k_2l}) = x_{i}^lx^{i}_l - a_{ik_1}s^{k_1l}x^i_l - x_{i}^l a^{ik_2}s_{k_2l} + a_{ik_1}s^{k_1l}a^{ik_2}s_{k_2l} \\\\\n",
    "\\left(\\frac{dJ}{dS}\\right)_{\\alpha\\beta} = \\frac{dJ}{d(s_{\\alpha\\beta})} = \\frac{d(x_{i}^lx^{i}_l - a_{ik_1}s^{k_1l}x^i_l - x_{i}^l a^{ik_2}s_{k_2l} + a_{ik_1}s^{k_1l}a^{ik_2}s_{k_2l})}{d(s_{\\alpha\\beta})} = \\\\\n",
    "= \\cancel{\\frac{d(x_{i}^lx^{i}_l)}{d(s_{\\alpha\\beta})}}^0 - \\frac{d(a_{ik_1}s^{k_1l}x^i_l)}{d(s_{\\alpha\\beta})} - \\frac{d(x_{i}^l a^{ik_2}s_{k_2l})}{d(s_{\\alpha\\beta})} + \\frac{d(a_{ik_1}s^{k_1l}a^{ik_2}s_{k_2l})}{d(s_{\\alpha\\beta})} = \\\\\n",
    "= - a_{i\\alpha} x_{\\beta}^i - x_{\\beta}^ia_{i\\alpha} + a_{i\\alpha}a^{ik_2}s_{k_2\\beta} + a^{ik_1}s_{k_1\\beta}a_{i\\alpha} = 2 a_{i\\alpha} \\left(a^{ik}s_{k\\beta} - x_{\\beta}^i \\right) \\Rightarrow \\boxed{\\frac{dJ}{dS} = 2A^T(AS-X)}\n",
    "\\end{gather*}"
   ]
  },
  {
   "cell_type": "markdown",
   "metadata": {},
   "source": [
    "#### First approach\n",
    "Using ex.2 and the fact:\n",
    "$$\n",
    "|| X ||_F^2 = tr(XX^T) \n",
    "$$ \n",
    "it is easy to derive gradients (you can find it in one of the refs). "
   ]
  },
  {
   "cell_type": "markdown",
   "metadata": {},
   "source": [
    "#### Second approach\n",
    "You can use *slightly different techniques* if they suits you. Take a look at this derivation:\n",
    "<img src=\"grad.png\">\n",
    "(excerpt from [Handbook of blind source separation, Jutten, page 517](https://books.google.ru/books?id=PTbj03bYH6kC&printsec=frontcover&dq=Handbook+of+Blind+Source+Separation&hl=en&sa=X&ved=0ahUKEwi-q_apiJDLAhULvXIKHVXJDWcQ6AEIHDAA#v=onepage&q=Handbook%20of%20Blind%20Source%20Separation&f=false), open for better picture)."
   ]
  },
  {
   "cell_type": "markdown",
   "metadata": {},
   "source": [
    "#### Third approach\n",
    "And finally we can use chain rule! \n",
    "let $ F = AS $ \n",
    "\n",
    "**Find**\n",
    "$$\n",
    "\\frac{dJ}{dF} =  \n",
    "$$ \n",
    "and \n",
    "$$\n",
    "\\frac{dF}{dS} =  \n",
    "$$ \n",
    "(the shape should be $ NM \\times RM )$.\n",
    "\n",
    "Now it is easy do get desired gradients:\n",
    "$$\n",
    "\\frac{dJ}{dS} =  \n",
    "$$ "
   ]
  },
  {
   "cell_type": "markdown",
   "metadata": {
    "collapsed": true,
    "jupyter": {
     "outputs_hidden": true
    }
   },
   "source": [
    "## 2. kNN questions\n",
    "Here come the questions from the assignment0_01. Please, refer to the assignment0_01 to get the context of the questions."
   ]
  },
  {
   "cell_type": "markdown",
   "metadata": {},
   "source": [
    "### Question 1\n",
    "\n",
    "Notice the structured patterns in the distance matrix, where some rows or columns are visible brighter. (Note that with the default color scheme black indicates low distances while white indicates high distances.)\n",
    "\n",
    "- What in the data is the cause behind the distinctly bright rows?\n",
    "- What causes the columns?\n",
    "\n",
    "*Your Answer:*\n",
    "\n",
    "- Bright row indicates that current test sample is far from training data, which means some extraordinary test sample which differs from train data a lot.\n",
    "\n",
    "- Bright column means some kind of inverse situation. Current train sample is far from all test data. Now the train sample can be considered as extraordinary."
   ]
  },
  {
   "cell_type": "markdown",
   "metadata": {},
   "source": [
    "### Question 2\n",
    "\n",
    "We can also use other distance metrics such as L1 distance.\n",
    "For pixel values $p_{ij}^{(k)}$ at location $(i,j)$ of some image $I_k$, \n",
    "\n",
    "the mean $\\mu$ across all pixels over all images is $$\\mu=\\frac{1}{nhw}\\sum_{k=1}^n\\sum_{i=1}^{h}\\sum_{j=1}^{w}p_{ij}^{(k)}$$\n",
    "And the pixel-wise mean $\\mu_{ij}$ across all images is \n",
    "$$\\mu_{ij}=\\frac{1}{n}\\sum_{k=1}^np_{ij}^{(k)}.$$\n",
    "The general standard deviation $\\sigma$ and pixel-wise standard deviation $\\sigma_{ij}$ is defined similarly.\n",
    "\n",
    "Which of the following preprocessing steps will not change the performance of a Nearest Neighbor classifier that uses L1 distance? Select all that apply.\n",
    "1. Subtracting the mean $\\mu$ ($\\tilde{p}_{ij}^{(k)}=p_{ij}^{(k)}-\\mu$.)\n",
    "2. Subtracting the per pixel mean $\\mu_{ij}$  ($\\tilde{p}_{ij}^{(k)}=p_{ij}^{(k)}-\\mu_{ij}$.)\n",
    "3. Subtracting the mean $\\mu$ and dividing by the standard deviation $\\sigma$.\n",
    "4. Subtracting the pixel-wise mean $\\mu_{ij}$ and dividing by the pixel-wise standard deviation $\\sigma_{ij}$.\n",
    "5. Rotating the coordinate axes of the data.\n",
    "\n",
    "*Your Answer:*\n",
    "1, 2, 3\n",
    "\n",
    "*Your Explanation:*\n",
    "\n",
    "If we speak about performance as accuracy, then to keep it the transformation must preserve L1 distance ordering.\n",
    "\n",
    "1. True. L1 distance ordering is preserved:\n",
    "$$\n",
    "\\|\\tilde{I}_k - \\tilde{I}_m\\|_1 = \\sum\\limits_{i = 1}^{h} \\sum\\limits_{j = 1}^{w} |(p_{ij}^{(k)} - \\mu) - (p_{ij}^{(m)} - \\mu)| = \\sum\\limits_{i = 1}^{h} \\sum\\limits_{j = 1}^{w} |p_{ij}^{(k)} - p_{ij}^{(m)}| = \\|I_k - I_m\\|_1\n",
    "$$\n",
    "\n",
    "2. True. L1 distance ordering is preserved:\n",
    "$$\n",
    "\\|\\tilde{I}_k - \\tilde{I}_m\\|_1 = \\sum\\limits_{i = 1}^{h} \\sum\\limits_{j = 1}^{w} |(p_{ij}^{(k)} - \\mu_{ij}) - (p_{ij}^{(m)} - \\mu_{ij})| = \\sum\\limits_{i = 1}^{h} \\sum\\limits_{j = 1}^{w} |p_{ij}^{(k)} - p_{ij}^{(m)}| = \\|I_k - I_m\\|_1\n",
    "$$\n",
    "\n",
    "3. True. L1 distance ordering is preserved:\n",
    "$$\n",
    "\\|\\tilde{I}_k - \\tilde{I}_m\\|_1 = \\sum\\limits_{i = 1}^{h} \\sum\\limits_{j = 1}^{w} \\left|\\frac{p_{ij}^{(k)} - \\mu}{\\sigma} - \\frac{p_{ij}^{(m)} - \\mu}{\\sigma}\\right| = \\frac{1}{\\sigma} \\sum\\limits_{i = 1}^{h} \\sum\\limits_{j = 1}^{w} \\left|p_{ij}^{(k)} - p_{ij}^{(m)}\\right| = \\frac{1}{\\sigma}\\|I_k - I_m\\|_1\n",
    "$$\n",
    "\n",
    "This implies:\n",
    "$$\n",
    "\\|I_k - I_m\\|_1 < \\|I_k - I_l\\|_1 \\Longrightarrow \\|\\tilde{I}_k - \\tilde{I}_m\\|_1 < \\|\\tilde{I}_k - \\tilde{I}_l\\|_1\n",
    "$$\n",
    "In fact, less sign can be replaced with any order operator since we just multiply all distances by some constant greater than zero\n",
    "\n",
    "4. False. L1 distance ordering is not preserved. Here is quick example:\n",
    "$$\n",
    "I_1 = \n",
    "\\begin{bmatrix} \n",
    "\t3 & 3 \\\\\n",
    "\t2 & 2 \\\\\n",
    "\\end{bmatrix};\n",
    "\\hspace{5mm}\n",
    "I_2 = \n",
    "\\begin{bmatrix} \n",
    "\t2 & 3 \\\\\n",
    "\t0 & 3 \\\\\n",
    "\\end{bmatrix};\n",
    "\\hspace{5mm}\n",
    "I_3 = \n",
    "\\begin{bmatrix} \n",
    "\t3 & 0 \\\\\n",
    "\t1 & 0 \\\\\n",
    "\\end{bmatrix};\n",
    "$$\n",
    "\n",
    "$$\n",
    "\\|I_1 - I_2\\|_1 = 1 + 0 + 2 + 1 = 4\n",
    "$$\n",
    "$$\n",
    "\\|I_1 - I_3\\|_1 = 0 + 3 + 1 + 2 = 6\n",
    "$$\n",
    "$$\n",
    "\\|I_2 - I_3\\|_1 = 1 + 3 + 1 + 3 = 8\n",
    "$$\n",
    "\n",
    "Let's transform images according to question\n",
    "$$\n",
    "\\mu_{ij} =\n",
    "\\begin{bmatrix} \n",
    "\t\\frac{8}{3} & 2 \\\\\n",
    "\t1 & \\frac{5}{3} \\\\\n",
    "\\end{bmatrix}\n",
    "$$\n",
    "\n",
    "$$\n",
    "\\sigma_{ij}^2 = \\frac{1}{3}\n",
    "\\begin{bmatrix} \n",
    "\t\\frac{1 + 4 + 1}{9} & 1 + 1 + 4 \\\\\n",
    "\t1 + 1 + 0 & \\frac{1 + 16 + 25}{9} \\\\\n",
    "\\end{bmatrix} =\n",
    "\\begin{bmatrix} \n",
    "\t\\frac{2}{9} & 2 \\\\\n",
    "\t\\frac{2}{3} & \\frac{14}{9} \\\\\n",
    "\\end{bmatrix}\n",
    "$$\n",
    "\n",
    "And transformed images:\n",
    "$$\n",
    "\\tilde{I}_1 = \n",
    "\\begin{bmatrix} \n",
    "\t\\frac{1}{\\sqrt{2}} & \\frac{1}{\\sqrt{2}} \\\\\n",
    "\t\\sqrt{\\frac{3}{2}} & \\frac{1}{\\sqrt{14}} \\\\\n",
    "\\end{bmatrix};\n",
    "\\hspace{5mm}\n",
    "\\tilde{I}_2 = \n",
    "\\begin{bmatrix} \n",
    "\t-\\sqrt{2} & \\frac{1}{\\sqrt{2}} \\\\\n",
    "\t-\\sqrt{\\frac{3}{2}} & \\frac{4}{\\sqrt{14}} \\\\\n",
    "\\end{bmatrix};\n",
    "\\hspace{5mm}\n",
    "\\tilde{I}_3 = \n",
    "\\begin{bmatrix} \n",
    "\t\\frac{1}{\\sqrt{2}} & -\\sqrt{2} \\\\\n",
    "\t0 & -\\frac{5}{\\sqrt{14}} \\\\\n",
    "\\end{bmatrix};\n",
    "$$\n",
    "\n",
    "And now if we calculate distances we get:\n",
    "$$\n",
    "\\|\\tilde{I}_1 - \\tilde{I}_2\\|_1 \\simeq 5.37\n",
    "$$\n",
    "$$\n",
    "\\|\\tilde{I}_1 - \\tilde{I}_3\\|_1 \\simeq 4.95\n",
    "$$\n",
    "$$\n",
    "\\|\\tilde{I}_2 - \\tilde{I}_3\\|_1 \\simeq 7.87\n",
    "$$\n",
    "\n",
    "\n",
    "As we can see: $\\|I_1 - I_2\\|_1 < \\|I_1 - I_3\\|_1$, but $\\|\\tilde{I}_1 - \\tilde{I}_2\\|_1 > \\|\\tilde{I}_1 - \\tilde{I}_3\\|_1$\n"
   ]
  },
  {
   "cell_type": "markdown",
   "metadata": {},
   "source": [
    "## Question 3\n",
    "\n",
    "Which of the following statements about $k$-Nearest Neighbor ($k$-NN) are true in a classification setting, and for all $k$? Select all that apply.\n",
    "1. The decision boundary (hyperplane between classes in feature space) of the k-NN classifier is linear.\n",
    "2. The training error of a 1-NN will always be lower than that of 5-NN.\n",
    "3. The test error of a 1-NN will always be lower than that of a 5-NN.\n",
    "4. The time needed to classify a test example with the k-NN classifier grows with the size of the training set.\n",
    "5. None of the above.\n",
    "\n",
    "*Your Answer:*\n",
    "4\n",
    "\n",
    "*Your Explanation:*\n",
    "\n",
    "1. False. The decision boundary only locally is linear, but in general has comlex shape\n",
    "\n",
    "2. False. Training error for 1-NN is 0 since every sample will choose itself. Although error for 5-NN is almost always greater than 0, it can reach exactly 0. Simple example - two distant clusters for data points. This way 5-NN training error is zero\n",
    "\n",
    "3. False. Simple example: $x_{\\text{train}} = [-5, -4, -3, -2, -1, 3]$ and $y_{\\text{train}} = [0, 0, 0, 0, 0, 1]$. If we intoduce test point $x = 2$ with $y = 0$ then for 1-NN test error is 1 and for 5-NN is 0\n",
    "\n",
    "4. True. Yes, it is correct since for every test sample kNN has to go through all train points\n",
    "\n",
    "5. False. See **True** above"
   ]
  }
 ],
 "metadata": {
  "kernelspec": {
   "display_name": "mipt",
   "language": "python",
   "name": "mipt"
  },
  "language_info": {
   "codemirror_mode": {
    "name": "ipython",
    "version": 3
   },
   "file_extension": ".py",
   "mimetype": "text/x-python",
   "name": "python",
   "nbconvert_exporter": "python",
   "pygments_lexer": "ipython3",
   "version": "3.9.5"
  }
 },
 "nbformat": 4,
 "nbformat_minor": 4
}
